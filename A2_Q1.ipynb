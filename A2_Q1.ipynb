{
  "nbformat": 4,
  "nbformat_minor": 0,
  "metadata": {
    "colab": {
      "name": "A2_Q1_tem.ipynb",
      "provenance": [],
      "collapsed_sections": []
    },
    "kernelspec": {
      "name": "python3",
      "display_name": "Python 3"
    },
    "language_info": {
      "name": "python"
    }
  },
  "cells": [
    {
      "cell_type": "code",
      "execution_count": null,
      "metadata": {
        "id": "gp_Wrn5Vbb_g"
      },
      "outputs": [],
      "source": [
        ""
      ]
    },
    {
      "cell_type": "code",
      "execution_count": 1,
      "metadata": {
        "id": "bf243025",
        "scrolled": false,
        "colab": {
          "base_uri": "https://localhost:8080/"
        },
        "outputId": "6a493458-dd01-48c2-f632-864346857b66"
      },
      "outputs": [
        {
          "output_type": "stream",
          "name": "stdout",
          "text": [
            "[nltk_data] Downloading package stopwords to /root/nltk_data...\n",
            "[nltk_data]   Unzipping corpora/stopwords.zip.\n",
            "[nltk_data] Downloading package stopwords to /root/nltk_data...\n",
            "[nltk_data]   Package stopwords is already up-to-date!\n",
            "[nltk_data] Downloading package punkt to /root/nltk_data...\n",
            "[nltk_data]   Unzipping tokenizers/punkt.zip.\n",
            "[nltk_data] Downloading package wordnet to /root/nltk_data...\n",
            "[nltk_data]   Unzipping corpora/wordnet.zip.\n"
          ]
        }
      ],
      "source": [
        "import pandas as pd\n",
        "import numpy as np\n",
        "import os \n",
        "import pickle\n",
        "import nltk\n",
        "from nltk.corpus import stopwords  \n",
        "from nltk.tokenize import word_tokenize \n",
        "from nltk.stem import WordNetLemmatizer  \n",
        "lemmatizer = WordNetLemmatizer() \n",
        "import nltk\n",
        "nltk.download('stopwords')\n",
        "english_stopwords = set(stopwords.words('english')) \n",
        "nltk.download('stopwords')\n",
        "nltk.download('punkt')\n",
        "nltk.download('wordnet')\n",
        "import re\n",
        "import string\n",
        "from re import search"
      ]
    },
    {
      "cell_type": "code",
      "execution_count": 2,
      "metadata": {
        "id": "6h2oqqdHsatC",
        "colab": {
          "base_uri": "https://localhost:8080/"
        },
        "outputId": "8fdf6cca-272c-482d-f241-0cb5b5943923"
      },
      "outputs": [
        {
          "output_type": "stream",
          "name": "stdout",
          "text": [
            "Mounted at /content/gdrive\n"
          ]
        }
      ],
      "source": [
        "from google.colab import drive\n",
        "drive.mount('/content/gdrive')\n",
        "#files=os.listdir('/content/gdrive/MyDrive/IR Assignments/IR Assignment 1/Humor,Hist,Media,Food')"
      ]
    },
    {
      "cell_type": "code",
      "execution_count": 3,
      "metadata": {
        "id": "1e413955",
        "scrolled": false
      },
      "outputs": [],
      "source": [
        "#Dataset access and path setting\n",
        "dir=\"/content/gdrive/MyDrive/IR Assignments/IR Assignment 1/Humor,Hist,Media,Food\"\n",
        "list_of_files = os.listdir(dir)\n",
        "\n",
        "files_path=[]\n",
        "for f in list_of_files:\n",
        "    files_path.append(dir+'/'+f)"
      ]
    },
    {
      "cell_type": "code",
      "execution_count": 4,
      "metadata": {
        "id": "E_hkO98otHMi",
        "colab": {
          "base_uri": "https://localhost:8080/"
        },
        "outputId": "e9e356e5-1943-4000-da1b-48c6fc3c7da6"
      },
      "outputs": [
        {
          "output_type": "execute_result",
          "data": {
            "text/plain": [
              "1133"
            ]
          },
          "metadata": {},
          "execution_count": 4
        }
      ],
      "source": [
        "len(files_path)"
      ]
    },
    {
      "cell_type": "code",
      "execution_count": 5,
      "metadata": {
        "id": "ec11f1e8"
      },
      "outputs": [],
      "source": [
        "#data pre-processing for Files\n",
        "def pre_processing(content):\n",
        "    preprocessed_data=[]\n",
        "    lem_words=[]\n",
        "    #removal of digits\n",
        "    result = re.sub(r'\\d+', '', content)\n",
        "\n",
        "    #punctuation removal\n",
        "    #result = result.translate(str.maketrans(\"\",\"\", string.punctuation))\n",
        "    result=re.sub(r'[^\\w\\s]',' ',result)\n",
        "\n",
        "    #removal of whitespace\n",
        "    result = result.strip()\n",
        "\n",
        "    #to lowercase\n",
        "    result = result.lower()\n",
        "    \n",
        "    #result=re.sub(r'[^\\w\\s]',' ',result)\n",
        "\n",
        "    #Lemmatization\n",
        "    result = word_tokenize(result)\n",
        "    for word in result:\n",
        "            lem_words.append(lemmatizer.lemmatize(word))\n",
        "\n",
        "    #stopwords removal\n",
        "    content_sw_removed = [w for w in lem_words if not w in english_stopwords]\n",
        "    preprocessed_data.append(i)\n",
        "    preprocessed_data.append(f)\n",
        "    preprocessed_data.append(content_sw_removed)\n",
        "    \n",
        "    return preprocessed_data"
      ]
    },
    {
      "cell_type": "code",
      "execution_count": 6,
      "metadata": {
        "id": "Sk5JRqnmZ3vQ"
      },
      "outputs": [],
      "source": [
        "#data pre-processing for Query\n",
        "def pre_processing_query(content):\n",
        "    preprocessed_data=[]\n",
        "    lem_words=[]\n",
        "    #removal of digits\n",
        "    result = re.sub(r'\\d+', '', content)\n",
        "\n",
        "    #punctuation removal\n",
        "    #result = result.translate(str.maketrans(\"\",\"\", string.punctuation))\n",
        "    result=re.sub(r'[^\\w\\s]',' ',result)\n",
        "\n",
        "    #removal of whitespace\n",
        "    result = result.strip()\n",
        "\n",
        "    #to lowercase\n",
        "    result = result.lower()\n",
        "    \n",
        "    #result=re.sub(r'[^\\w\\s]',' ',result)\n",
        "\n",
        "    #Lemmatization\n",
        "    result = word_tokenize(result)\n",
        "    for word in result:\n",
        "            lem_words.append(lemmatizer.lemmatize(word))\n",
        "\n",
        "    #stopwords removal\n",
        "    content_sw_removed = [w for w in lem_words if not w in english_stopwords]\n",
        "    #preprocessed_data.append(i)\n",
        "    #preprocessed_data.append(f)\n",
        "    preprocessed_data.append(content_sw_removed)\n",
        "    \n",
        "    return content_sw_removed"
      ]
    },
    {
      "cell_type": "code",
      "execution_count": 7,
      "metadata": {
        "id": "44a6b210"
      },
      "outputs": [],
      "source": [
        "#preprocession of each file in Dataset\n",
        "from nltk.stem import WordNetLemmatizer\n",
        "from nltk.tokenize import word_tokenize\n",
        "#nltk.download('wordnet')\n",
        "lemmatizer=WordNetLemmatizer()\n",
        "datalist=[]\n",
        "i=0\n",
        "doc_id_name_mapping={}\n",
        "for f in list_of_files:\n",
        "    with open(dir+'/'+f, 'r',errors='ignore',encoding='latin-1') as file:              \n",
        "            content = file.read().replace('\\n', '')\n",
        "            datalist.append(pre_processing(content))\n",
        "            doc_id_name_mapping[i]=f\n",
        "            i=i+1       \n",
        "            "
      ]
    },
    {
      "cell_type": "code",
      "execution_count": 8,
      "metadata": {
        "id": "a6a689a0"
      },
      "outputs": [],
      "source": [
        "#DataFrame Creation\n",
        "df = pd.DataFrame(datalist, columns =['Doc_Id', 'Doc_Name','Doc_Content'])\n",
        "all_doc_id=df['Doc_Id']\n",
        "\n",
        "collection_of_words=[]\n",
        "for i in range(len(df)) :\n",
        "    document_id=df.loc[i, \"Doc_Id\"]\n",
        "    document_content = df.loc[i, \"Doc_Content\"]\n",
        "    for word in document_content:\n",
        "        word_data=[]\n",
        "        word_data.append(word)\n",
        "        word_data.append(document_id)\n",
        "        collection_of_words.append(word_data)\n",
        "        \n",
        "collection_df = pd.DataFrame(collection_of_words,columns=('word','doc_id'))\n",
        "collection_df=collection_df.sort_values(by=['word','doc_id'])      \n",
        "collection_df=collection_df.drop_duplicates()"
      ]
    },
    {
      "cell_type": "code",
      "execution_count": 9,
      "metadata": {
        "id": "6rsadyhNuMxQ"
      },
      "outputs": [],
      "source": [
        "def intersection(lst1, lst2):\n",
        "    lst3 = [value for value in lst1 if value in lst2]\n",
        "    lst3=list(set(lst3))\n",
        "    return lst3"
      ]
    },
    {
      "cell_type": "code",
      "execution_count": 10,
      "metadata": {
        "id": "NfNkCBoNuPy5"
      },
      "outputs": [],
      "source": [
        "def Union(lst1, lst2):\n",
        "    lst3 = sorted(lst1 + lst2)\n",
        "    lst3=list(set(lst3))\n",
        "    return lst3"
      ]
    },
    {
      "cell_type": "code",
      "execution_count": 30,
      "metadata": {
        "id": "yh0ZYcn0v9I4",
        "colab": {
          "base_uri": "https://localhost:8080/"
        },
        "outputId": "90a7b368-c56a-419d-cab8-5f521632d52f"
      },
      "outputs": [
        {
          "name": "stdout",
          "output_type": "stream",
          "text": [
            "Enter the query:tiger cat lion\n"
          ]
        }
      ],
      "source": [
        "# Taking input of query\n",
        "#preprocession of each file in Dataset\n",
        "from nltk.stem import WordNetLemmatizer\n",
        "from nltk.tokenize import word_tokenize\n",
        "#nltk.download('wordnet')\n",
        "query=input(\"Enter the query:\")\n",
        "#preprocessedquery=preprocessing(query)\n",
        "q_input=[]\n",
        "q_input=pre_processing_query(query)\n",
        "\n",
        "\n",
        "all_doc_id=df['Doc_Id']\n",
        "intersection_list=[]\n",
        "union_list=[]\n",
        "Jaccard_list1=[]\n",
        "Jaccard_list=[]\n",
        "collection_of_words=[]\n",
        "for i in range(len(df)) :\n",
        "  Jaccard_list1=[]\n",
        "  document_id=df.loc[i, \"Doc_Id\"]\n",
        "  document_name = df.loc[i, \"Doc_Name\"]\n",
        "  intersection_list=intersection(q_input,df.iloc[i][2])\n",
        "  union_list=Union(q_input,df.iloc[i][2])\n",
        "  jac_coff=len(intersection_list)/len(union_list)\n",
        "  Jaccard_list1.append(document_name)\n",
        "  Jaccard_list1.append(jac_coff)\n",
        "  Jaccard_list.append(Jaccard_list1)\n",
        "\n",
        "        "
      ]
    },
    {
      "cell_type": "code",
      "source": [
        "Jaccard_list = pd.DataFrame(Jaccard_list, columns =['Doc_Name', 'Jac_Coff'])\n",
        "Jaccard_list\n"
      ],
      "metadata": {
        "id": "ltf2bJqDrRdW",
        "colab": {
          "base_uri": "https://localhost:8080/",
          "height": 423
        },
        "outputId": "b17c4ac9-0454-462b-8c64-206b6d4793ef"
      },
      "execution_count": 32,
      "outputs": [
        {
          "output_type": "execute_result",
          "data": {
            "text/plain": [
              "          Doc_Name  Jac_Coff\n",
              "0      spydust.hum  0.000000\n",
              "1     st_silic.txt  0.000000\n",
              "2        staff.txt  0.000000\n",
              "3     strsdiet.txt  0.000000\n",
              "4     supermar.rul  0.000000\n",
              "...            ...       ...\n",
              "1128  spoonlis.txt  0.000000\n",
              "1129  studentb.txt  0.000000\n",
              "1130  sysadmin.txt  0.001361\n",
              "1131  takenote.jok  0.000000\n",
              "1132  subrdead.hum  0.000534\n",
              "\n",
              "[1133 rows x 2 columns]"
            ],
            "text/html": [
              "\n",
              "  <div id=\"df-d4362d3d-3a78-4b79-b6e6-25ce6325e460\">\n",
              "    <div class=\"colab-df-container\">\n",
              "      <div>\n",
              "<style scoped>\n",
              "    .dataframe tbody tr th:only-of-type {\n",
              "        vertical-align: middle;\n",
              "    }\n",
              "\n",
              "    .dataframe tbody tr th {\n",
              "        vertical-align: top;\n",
              "    }\n",
              "\n",
              "    .dataframe thead th {\n",
              "        text-align: right;\n",
              "    }\n",
              "</style>\n",
              "<table border=\"1\" class=\"dataframe\">\n",
              "  <thead>\n",
              "    <tr style=\"text-align: right;\">\n",
              "      <th></th>\n",
              "      <th>Doc_Name</th>\n",
              "      <th>Jac_Coff</th>\n",
              "    </tr>\n",
              "  </thead>\n",
              "  <tbody>\n",
              "    <tr>\n",
              "      <th>0</th>\n",
              "      <td>spydust.hum</td>\n",
              "      <td>0.000000</td>\n",
              "    </tr>\n",
              "    <tr>\n",
              "      <th>1</th>\n",
              "      <td>st_silic.txt</td>\n",
              "      <td>0.000000</td>\n",
              "    </tr>\n",
              "    <tr>\n",
              "      <th>2</th>\n",
              "      <td>staff.txt</td>\n",
              "      <td>0.000000</td>\n",
              "    </tr>\n",
              "    <tr>\n",
              "      <th>3</th>\n",
              "      <td>strsdiet.txt</td>\n",
              "      <td>0.000000</td>\n",
              "    </tr>\n",
              "    <tr>\n",
              "      <th>4</th>\n",
              "      <td>supermar.rul</td>\n",
              "      <td>0.000000</td>\n",
              "    </tr>\n",
              "    <tr>\n",
              "      <th>...</th>\n",
              "      <td>...</td>\n",
              "      <td>...</td>\n",
              "    </tr>\n",
              "    <tr>\n",
              "      <th>1128</th>\n",
              "      <td>spoonlis.txt</td>\n",
              "      <td>0.000000</td>\n",
              "    </tr>\n",
              "    <tr>\n",
              "      <th>1129</th>\n",
              "      <td>studentb.txt</td>\n",
              "      <td>0.000000</td>\n",
              "    </tr>\n",
              "    <tr>\n",
              "      <th>1130</th>\n",
              "      <td>sysadmin.txt</td>\n",
              "      <td>0.001361</td>\n",
              "    </tr>\n",
              "    <tr>\n",
              "      <th>1131</th>\n",
              "      <td>takenote.jok</td>\n",
              "      <td>0.000000</td>\n",
              "    </tr>\n",
              "    <tr>\n",
              "      <th>1132</th>\n",
              "      <td>subrdead.hum</td>\n",
              "      <td>0.000534</td>\n",
              "    </tr>\n",
              "  </tbody>\n",
              "</table>\n",
              "<p>1133 rows × 2 columns</p>\n",
              "</div>\n",
              "      <button class=\"colab-df-convert\" onclick=\"convertToInteractive('df-d4362d3d-3a78-4b79-b6e6-25ce6325e460')\"\n",
              "              title=\"Convert this dataframe to an interactive table.\"\n",
              "              style=\"display:none;\">\n",
              "        \n",
              "  <svg xmlns=\"http://www.w3.org/2000/svg\" height=\"24px\"viewBox=\"0 0 24 24\"\n",
              "       width=\"24px\">\n",
              "    <path d=\"M0 0h24v24H0V0z\" fill=\"none\"/>\n",
              "    <path d=\"M18.56 5.44l.94 2.06.94-2.06 2.06-.94-2.06-.94-.94-2.06-.94 2.06-2.06.94zm-11 1L8.5 8.5l.94-2.06 2.06-.94-2.06-.94L8.5 2.5l-.94 2.06-2.06.94zm10 10l.94 2.06.94-2.06 2.06-.94-2.06-.94-.94-2.06-.94 2.06-2.06.94z\"/><path d=\"M17.41 7.96l-1.37-1.37c-.4-.4-.92-.59-1.43-.59-.52 0-1.04.2-1.43.59L10.3 9.45l-7.72 7.72c-.78.78-.78 2.05 0 2.83L4 21.41c.39.39.9.59 1.41.59.51 0 1.02-.2 1.41-.59l7.78-7.78 2.81-2.81c.8-.78.8-2.07 0-2.86zM5.41 20L4 18.59l7.72-7.72 1.47 1.35L5.41 20z\"/>\n",
              "  </svg>\n",
              "      </button>\n",
              "      \n",
              "  <style>\n",
              "    .colab-df-container {\n",
              "      display:flex;\n",
              "      flex-wrap:wrap;\n",
              "      gap: 12px;\n",
              "    }\n",
              "\n",
              "    .colab-df-convert {\n",
              "      background-color: #E8F0FE;\n",
              "      border: none;\n",
              "      border-radius: 50%;\n",
              "      cursor: pointer;\n",
              "      display: none;\n",
              "      fill: #1967D2;\n",
              "      height: 32px;\n",
              "      padding: 0 0 0 0;\n",
              "      width: 32px;\n",
              "    }\n",
              "\n",
              "    .colab-df-convert:hover {\n",
              "      background-color: #E2EBFA;\n",
              "      box-shadow: 0px 1px 2px rgba(60, 64, 67, 0.3), 0px 1px 3px 1px rgba(60, 64, 67, 0.15);\n",
              "      fill: #174EA6;\n",
              "    }\n",
              "\n",
              "    [theme=dark] .colab-df-convert {\n",
              "      background-color: #3B4455;\n",
              "      fill: #D2E3FC;\n",
              "    }\n",
              "\n",
              "    [theme=dark] .colab-df-convert:hover {\n",
              "      background-color: #434B5C;\n",
              "      box-shadow: 0px 1px 3px 1px rgba(0, 0, 0, 0.15);\n",
              "      filter: drop-shadow(0px 1px 2px rgba(0, 0, 0, 0.3));\n",
              "      fill: #FFFFFF;\n",
              "    }\n",
              "  </style>\n",
              "\n",
              "      <script>\n",
              "        const buttonEl =\n",
              "          document.querySelector('#df-d4362d3d-3a78-4b79-b6e6-25ce6325e460 button.colab-df-convert');\n",
              "        buttonEl.style.display =\n",
              "          google.colab.kernel.accessAllowed ? 'block' : 'none';\n",
              "\n",
              "        async function convertToInteractive(key) {\n",
              "          const element = document.querySelector('#df-d4362d3d-3a78-4b79-b6e6-25ce6325e460');\n",
              "          const dataTable =\n",
              "            await google.colab.kernel.invokeFunction('convertToInteractive',\n",
              "                                                     [key], {});\n",
              "          if (!dataTable) return;\n",
              "\n",
              "          const docLinkHtml = 'Like what you see? Visit the ' +\n",
              "            '<a target=\"_blank\" href=https://colab.research.google.com/notebooks/data_table.ipynb>data table notebook</a>'\n",
              "            + ' to learn more about interactive tables.';\n",
              "          element.innerHTML = '';\n",
              "          dataTable['output_type'] = 'display_data';\n",
              "          await google.colab.output.renderOutput(dataTable, element);\n",
              "          const docLink = document.createElement('div');\n",
              "          docLink.innerHTML = docLinkHtml;\n",
              "          element.appendChild(docLink);\n",
              "        }\n",
              "      </script>\n",
              "    </div>\n",
              "  </div>\n",
              "  "
            ]
          },
          "metadata": {},
          "execution_count": 32
        }
      ]
    },
    {
      "cell_type": "code",
      "source": [
        "Jaccard_list=Jaccard_list.sort_values(by=\"Jac_Coff\",ascending=False)"
      ],
      "metadata": {
        "id": "0SjdtHgSwsUx"
      },
      "execution_count": 33,
      "outputs": []
    },
    {
      "cell_type": "code",
      "source": [
        "Jaccard_list.to_csv('/content/gdrive/MyDrive/IR Assignments/IR Assignment 1/Jaccard Coffecient.csv')"
      ],
      "metadata": {
        "id": "YvdTZ9Qexf5n"
      },
      "execution_count": 14,
      "outputs": []
    },
    {
      "cell_type": "code",
      "source": [
        "print(\"Document Name\", \" \", \"Jaccard Coefficient\")\n",
        "for i in range(5):\n",
        "  print(Jaccard_list.iloc[i][0], \" \", Jaccard_list.iloc[i][1])"
      ],
      "metadata": {
        "id": "2TpNhHbsqTO2",
        "colab": {
          "base_uri": "https://localhost:8080/"
        },
        "outputId": "99f94c5c-932f-4903-892b-5a9db3a28d83"
      },
      "execution_count": 34,
      "outputs": [
        {
          "output_type": "stream",
          "name": "stdout",
          "text": [
            "Document Name   Jaccard Coefficient\n",
            "puzzles.jok   0.020833333333333332\n",
            "netnews.10   0.011494252873563218\n",
            "units.mea   0.008130081300813009\n",
            "ohandre.hum   0.008064516129032258\n",
            "smokers.txt   0.008\n"
          ]
        }
      ]
    },
    {
      "cell_type": "code",
      "source": [
        "df"
      ],
      "metadata": {
        "id": "MmPC36CDyT85",
        "colab": {
          "base_uri": "https://localhost:8080/",
          "height": 423
        },
        "outputId": "f02d59be-6b79-4e03-d054-c0ec863c3b79"
      },
      "execution_count": 16,
      "outputs": [
        {
          "output_type": "execute_result",
          "data": {
            "text/plain": [
              "      Doc_Id      Doc_Name                                        Doc_Content\n",
              "0          0   spydust.hum  [spy, dust, mopped, upa, special, report, wa, ...\n",
              "1          1  st_silic.txt  [silliness, time, saint, silicon, excerpted, c...\n",
              "2          2     staff.txt  [staff, development, response, staff, developm...\n",
              "3          3  strsdiet.txt  [stress, diet, author, unknownbreakfast, grape...\n",
              "4          4  supermar.rul  [supermarket, shelf, control, dept, consumber,...\n",
              "...      ...           ...                                                ...\n",
              "1128    1128  spoonlis.txt  [newsgroups, alt, quotationsfrom, noel, reg, t...\n",
              "1129    1129  studentb.txt  [world, according, student, blooper, truly, as...\n",
              "1130    1130  sysadmin.txt  [szielins, u, oracle, com, szielins, u, newsgr...\n",
              "1131    1131  takenote.jok  [davidt, psuhcx, tue, aug, davidt, psuhcx, tho...\n",
              "1132    1132  subrdead.hum  [suburban, book, dead, exile, paradisewell, st...\n",
              "\n",
              "[1133 rows x 3 columns]"
            ],
            "text/html": [
              "\n",
              "  <div id=\"df-35cb46ff-c09f-4a73-9cab-c5cca76c0d1d\">\n",
              "    <div class=\"colab-df-container\">\n",
              "      <div>\n",
              "<style scoped>\n",
              "    .dataframe tbody tr th:only-of-type {\n",
              "        vertical-align: middle;\n",
              "    }\n",
              "\n",
              "    .dataframe tbody tr th {\n",
              "        vertical-align: top;\n",
              "    }\n",
              "\n",
              "    .dataframe thead th {\n",
              "        text-align: right;\n",
              "    }\n",
              "</style>\n",
              "<table border=\"1\" class=\"dataframe\">\n",
              "  <thead>\n",
              "    <tr style=\"text-align: right;\">\n",
              "      <th></th>\n",
              "      <th>Doc_Id</th>\n",
              "      <th>Doc_Name</th>\n",
              "      <th>Doc_Content</th>\n",
              "    </tr>\n",
              "  </thead>\n",
              "  <tbody>\n",
              "    <tr>\n",
              "      <th>0</th>\n",
              "      <td>0</td>\n",
              "      <td>spydust.hum</td>\n",
              "      <td>[spy, dust, mopped, upa, special, report, wa, ...</td>\n",
              "    </tr>\n",
              "    <tr>\n",
              "      <th>1</th>\n",
              "      <td>1</td>\n",
              "      <td>st_silic.txt</td>\n",
              "      <td>[silliness, time, saint, silicon, excerpted, c...</td>\n",
              "    </tr>\n",
              "    <tr>\n",
              "      <th>2</th>\n",
              "      <td>2</td>\n",
              "      <td>staff.txt</td>\n",
              "      <td>[staff, development, response, staff, developm...</td>\n",
              "    </tr>\n",
              "    <tr>\n",
              "      <th>3</th>\n",
              "      <td>3</td>\n",
              "      <td>strsdiet.txt</td>\n",
              "      <td>[stress, diet, author, unknownbreakfast, grape...</td>\n",
              "    </tr>\n",
              "    <tr>\n",
              "      <th>4</th>\n",
              "      <td>4</td>\n",
              "      <td>supermar.rul</td>\n",
              "      <td>[supermarket, shelf, control, dept, consumber,...</td>\n",
              "    </tr>\n",
              "    <tr>\n",
              "      <th>...</th>\n",
              "      <td>...</td>\n",
              "      <td>...</td>\n",
              "      <td>...</td>\n",
              "    </tr>\n",
              "    <tr>\n",
              "      <th>1128</th>\n",
              "      <td>1128</td>\n",
              "      <td>spoonlis.txt</td>\n",
              "      <td>[newsgroups, alt, quotationsfrom, noel, reg, t...</td>\n",
              "    </tr>\n",
              "    <tr>\n",
              "      <th>1129</th>\n",
              "      <td>1129</td>\n",
              "      <td>studentb.txt</td>\n",
              "      <td>[world, according, student, blooper, truly, as...</td>\n",
              "    </tr>\n",
              "    <tr>\n",
              "      <th>1130</th>\n",
              "      <td>1130</td>\n",
              "      <td>sysadmin.txt</td>\n",
              "      <td>[szielins, u, oracle, com, szielins, u, newsgr...</td>\n",
              "    </tr>\n",
              "    <tr>\n",
              "      <th>1131</th>\n",
              "      <td>1131</td>\n",
              "      <td>takenote.jok</td>\n",
              "      <td>[davidt, psuhcx, tue, aug, davidt, psuhcx, tho...</td>\n",
              "    </tr>\n",
              "    <tr>\n",
              "      <th>1132</th>\n",
              "      <td>1132</td>\n",
              "      <td>subrdead.hum</td>\n",
              "      <td>[suburban, book, dead, exile, paradisewell, st...</td>\n",
              "    </tr>\n",
              "  </tbody>\n",
              "</table>\n",
              "<p>1133 rows × 3 columns</p>\n",
              "</div>\n",
              "      <button class=\"colab-df-convert\" onclick=\"convertToInteractive('df-35cb46ff-c09f-4a73-9cab-c5cca76c0d1d')\"\n",
              "              title=\"Convert this dataframe to an interactive table.\"\n",
              "              style=\"display:none;\">\n",
              "        \n",
              "  <svg xmlns=\"http://www.w3.org/2000/svg\" height=\"24px\"viewBox=\"0 0 24 24\"\n",
              "       width=\"24px\">\n",
              "    <path d=\"M0 0h24v24H0V0z\" fill=\"none\"/>\n",
              "    <path d=\"M18.56 5.44l.94 2.06.94-2.06 2.06-.94-2.06-.94-.94-2.06-.94 2.06-2.06.94zm-11 1L8.5 8.5l.94-2.06 2.06-.94-2.06-.94L8.5 2.5l-.94 2.06-2.06.94zm10 10l.94 2.06.94-2.06 2.06-.94-2.06-.94-.94-2.06-.94 2.06-2.06.94z\"/><path d=\"M17.41 7.96l-1.37-1.37c-.4-.4-.92-.59-1.43-.59-.52 0-1.04.2-1.43.59L10.3 9.45l-7.72 7.72c-.78.78-.78 2.05 0 2.83L4 21.41c.39.39.9.59 1.41.59.51 0 1.02-.2 1.41-.59l7.78-7.78 2.81-2.81c.8-.78.8-2.07 0-2.86zM5.41 20L4 18.59l7.72-7.72 1.47 1.35L5.41 20z\"/>\n",
              "  </svg>\n",
              "      </button>\n",
              "      \n",
              "  <style>\n",
              "    .colab-df-container {\n",
              "      display:flex;\n",
              "      flex-wrap:wrap;\n",
              "      gap: 12px;\n",
              "    }\n",
              "\n",
              "    .colab-df-convert {\n",
              "      background-color: #E8F0FE;\n",
              "      border: none;\n",
              "      border-radius: 50%;\n",
              "      cursor: pointer;\n",
              "      display: none;\n",
              "      fill: #1967D2;\n",
              "      height: 32px;\n",
              "      padding: 0 0 0 0;\n",
              "      width: 32px;\n",
              "    }\n",
              "\n",
              "    .colab-df-convert:hover {\n",
              "      background-color: #E2EBFA;\n",
              "      box-shadow: 0px 1px 2px rgba(60, 64, 67, 0.3), 0px 1px 3px 1px rgba(60, 64, 67, 0.15);\n",
              "      fill: #174EA6;\n",
              "    }\n",
              "\n",
              "    [theme=dark] .colab-df-convert {\n",
              "      background-color: #3B4455;\n",
              "      fill: #D2E3FC;\n",
              "    }\n",
              "\n",
              "    [theme=dark] .colab-df-convert:hover {\n",
              "      background-color: #434B5C;\n",
              "      box-shadow: 0px 1px 3px 1px rgba(0, 0, 0, 0.15);\n",
              "      filter: drop-shadow(0px 1px 2px rgba(0, 0, 0, 0.3));\n",
              "      fill: #FFFFFF;\n",
              "    }\n",
              "  </style>\n",
              "\n",
              "      <script>\n",
              "        const buttonEl =\n",
              "          document.querySelector('#df-35cb46ff-c09f-4a73-9cab-c5cca76c0d1d button.colab-df-convert');\n",
              "        buttonEl.style.display =\n",
              "          google.colab.kernel.accessAllowed ? 'block' : 'none';\n",
              "\n",
              "        async function convertToInteractive(key) {\n",
              "          const element = document.querySelector('#df-35cb46ff-c09f-4a73-9cab-c5cca76c0d1d');\n",
              "          const dataTable =\n",
              "            await google.colab.kernel.invokeFunction('convertToInteractive',\n",
              "                                                     [key], {});\n",
              "          if (!dataTable) return;\n",
              "\n",
              "          const docLinkHtml = 'Like what you see? Visit the ' +\n",
              "            '<a target=\"_blank\" href=https://colab.research.google.com/notebooks/data_table.ipynb>data table notebook</a>'\n",
              "            + ' to learn more about interactive tables.';\n",
              "          element.innerHTML = '';\n",
              "          dataTable['output_type'] = 'display_data';\n",
              "          await google.colab.output.renderOutput(dataTable, element);\n",
              "          const docLink = document.createElement('div');\n",
              "          docLink.innerHTML = docLinkHtml;\n",
              "          element.appendChild(docLink);\n",
              "        }\n",
              "      </script>\n",
              "    </div>\n",
              "  </div>\n",
              "  "
            ]
          },
          "metadata": {},
          "execution_count": 16
        }
      ]
    },
    {
      "cell_type": "markdown",
      "source": [
        "## **Q1 Part B**"
      ],
      "metadata": {
        "id": "y_zpRsOcyVqy"
      }
    },
    {
      "cell_type": "code",
      "source": [
        "word_freq = {} \n",
        "for i in range(len(df)):\n",
        "  for word in df.iloc[i][2]:\n",
        "    if word in word_freq:\n",
        "      word_freq[word].add(i)\n",
        "    else:\n",
        "      word_freq[word] = {i}"
      ],
      "metadata": {
        "id": "WsJe-np0yfXz"
      },
      "execution_count": 17,
      "outputs": []
    },
    {
      "cell_type": "code",
      "source": [
        "len(word_freq.keys())"
      ],
      "metadata": {
        "id": "qhkblQfjznOi",
        "colab": {
          "base_uri": "https://localhost:8080/"
        },
        "outputId": "725941b9-dd39-4aa6-bac5-81392db56d69"
      },
      "execution_count": 18,
      "outputs": [
        {
          "output_type": "execute_result",
          "data": {
            "text/plain": [
              "103703"
            ]
          },
          "metadata": {},
          "execution_count": 18
        }
      ]
    },
    {
      "cell_type": "markdown",
      "source": [
        "**IDF Calculation**"
      ],
      "metadata": {
        "id": "GKOOyRl-1Ftk"
      }
    },
    {
      "cell_type": "code",
      "source": [
        "import math\n",
        "IDF = []\n",
        "for word in word_freq.keys():\n",
        "  IDF.append(math.log(len(df)/(len(word_freq[word])+1)))"
      ],
      "metadata": {
        "id": "2aBIV6XZzo1E"
      },
      "execution_count": 19,
      "outputs": []
    },
    {
      "cell_type": "code",
      "source": [
        "len(IDF)"
      ],
      "metadata": {
        "id": "y8C8cegnz0jZ",
        "colab": {
          "base_uri": "https://localhost:8080/"
        },
        "outputId": "033697e0-0fb7-42f3-b0b2-bfab68ab3b81"
      },
      "execution_count": 20,
      "outputs": [
        {
          "output_type": "execute_result",
          "data": {
            "text/plain": [
              "103703"
            ]
          },
          "metadata": {},
          "execution_count": 20
        }
      ]
    },
    {
      "cell_type": "code",
      "source": [
        "\n",
        "x=[0]*3\n",
        "x"
      ],
      "metadata": {
        "id": "HNHWuu4y3cCf",
        "colab": {
          "base_uri": "https://localhost:8080/"
        },
        "outputId": "f6fcc1f0-77ba-4cb9-8902-76d5f19b515e"
      },
      "execution_count": 21,
      "outputs": [
        {
          "output_type": "execute_result",
          "data": {
            "text/plain": [
              "[0, 0, 0]"
            ]
          },
          "metadata": {},
          "execution_count": 21
        }
      ]
    },
    {
      "cell_type": "code",
      "source": [
        "def Binary(TF_IDF):\n",
        "  for i in range(len(df)):\n",
        "    word_count=[0]*len(word_freq.keys())\n",
        "    TF_IDF.append(word_count)\n",
        "  i = 0\n",
        "\n",
        "  for word in word_freq.keys():\n",
        "    lst_doc = word_freq[word]\n",
        "    for k in lst_doc:# for doc in word\n",
        "      TF_IDF[k][i] = 1\n",
        "    i= i+1\n",
        "\n",
        "  for i in range(len(df)):\n",
        "    for j in range(len(word_freq.keys())):\n",
        "      TF_IDF[i][j]= TF_IDF[i][j]*IDF[j]\n",
        "  return TF_IDF\n"
      ],
      "metadata": {
        "id": "lDfw7Q6E1y9s"
      },
      "execution_count": 22,
      "outputs": []
    },
    {
      "cell_type": "code",
      "source": [
        "TF_IDF=[]\n",
        "TF_IDF=Binary(TF_IDF)"
      ],
      "metadata": {
        "id": "QB32n3Zc5rCt"
      },
      "execution_count": 23,
      "outputs": []
    },
    {
      "cell_type": "code",
      "source": [
        "len(TF_IDF)"
      ],
      "metadata": {
        "id": "igKpZUmb8G3f",
        "colab": {
          "base_uri": "https://localhost:8080/"
        },
        "outputId": "9fab0d0b-bc69-482e-f380-f4fc7d567271"
      },
      "execution_count": 24,
      "outputs": [
        {
          "output_type": "execute_result",
          "data": {
            "text/plain": [
              "1133"
            ]
          },
          "metadata": {},
          "execution_count": 24
        }
      ]
    },
    {
      "cell_type": "code",
      "source": [
        "TF_IDF = pd.DataFrame(TF_IDF)"
      ],
      "metadata": {
        "id": "GEXiMIJP548T"
      },
      "execution_count": 25,
      "outputs": []
    },
    {
      "cell_type": "code",
      "source": [
        "def Raw_Count(TF_IDF): \n",
        "  for i in range(len(df)):\n",
        "    TF_IDF.append(0)\n",
        "\n",
        "  for i in range(len(df)):\n",
        "    word_count = {}\n",
        "    for word in word_freq.keys():\n",
        "      word_count[word] = 0\n",
        "    \n",
        "    for word in df.iloc[i][2]:\n",
        "      word_count[word] = word_count[word]+1\n",
        "    TF_IDF[i] = list(word_count.values())\n",
        "\n",
        "  for i in range(len(df)):\n",
        "    for j in range(len(word_freq.keys())):\n",
        "      TF_IDF[i][j] = TF_IDF[i][j]*IDF[j]\n",
        "    \n",
        "  return TF_IDF"
      ],
      "metadata": {
        "id": "aoSv7O1-6OY5"
      },
      "execution_count": 26,
      "outputs": []
    },
    {
      "cell_type": "code",
      "source": [
        "TF_IDF=[]\n",
        "TF_IDF=Raw_Count(TF_IDF)"
      ],
      "metadata": {
        "id": "iauQxbc_832U"
      },
      "execution_count": 27,
      "outputs": []
    },
    {
      "cell_type": "code",
      "source": [
        "def Term_Frequency(TF_IDF): \n",
        "  for i in range(len(df)):\n",
        "    TF_IDF.append(0)\n",
        "\n",
        "  for i in range(len(df)):\n",
        "    word_count = {}\n",
        "    for word in word_freq.keys():\n",
        "      word_count[word] = 0\n",
        "    \n",
        "    for word in df.iloc[i][2]:\n",
        "      word_count[word] = word_count[word]+1\n",
        "\n",
        "    for word in word_count.keys():\n",
        "      word_count[word] = word_count[word]/len(df.iloc[i][2])\n",
        "\n",
        "    TF_IDF[i] = list(word_count.values())\n",
        "\n",
        "  for i in range(len(df)):\n",
        "    for j in range(len(word_freq.keys())):\n",
        "      TF_IDF[i][j] = TF_IDF[i][j]*IDF[j]\n",
        "    \n",
        "  return TF_IDF"
      ],
      "metadata": {
        "id": "l0-5_PY2_C3C"
      },
      "execution_count": 28,
      "outputs": []
    },
    {
      "cell_type": "code",
      "source": [
        "TF_IDF=[]\n",
        "TF_IDF=Term_Frequency(TF_IDF)"
      ],
      "metadata": {
        "id": "MuIc7Uf5Bq4E",
        "colab": {
          "base_uri": "https://localhost:8080/",
          "height": 328
        },
        "outputId": "cefa8a0b-0570-4823-bb80-09bf11f88430"
      },
      "execution_count": 29,
      "outputs": [
        {
          "output_type": "error",
          "ename": "KeyboardInterrupt",
          "evalue": "ignored",
          "traceback": [
            "\u001b[0;31m---------------------------------------------------------------------------\u001b[0m",
            "\u001b[0;31mKeyboardInterrupt\u001b[0m                         Traceback (most recent call last)",
            "\u001b[0;32m<ipython-input-29-80ee170976d6>\u001b[0m in \u001b[0;36m<module>\u001b[0;34m()\u001b[0m\n\u001b[1;32m      1\u001b[0m \u001b[0mTF_IDF\u001b[0m\u001b[0;34m=\u001b[0m\u001b[0;34m[\u001b[0m\u001b[0;34m]\u001b[0m\u001b[0;34m\u001b[0m\u001b[0;34m\u001b[0m\u001b[0m\n\u001b[0;32m----> 2\u001b[0;31m \u001b[0mTF_IDF\u001b[0m\u001b[0;34m=\u001b[0m\u001b[0mTerm_Frequency\u001b[0m\u001b[0;34m(\u001b[0m\u001b[0mTF_IDF\u001b[0m\u001b[0;34m)\u001b[0m\u001b[0;34m\u001b[0m\u001b[0;34m\u001b[0m\u001b[0m\n\u001b[0m",
            "\u001b[0;32m<ipython-input-28-b2d9508ff651>\u001b[0m in \u001b[0;36mTerm_Frequency\u001b[0;34m(TF_IDF)\u001b[0m\n\u001b[1;32m     12\u001b[0m \u001b[0;34m\u001b[0m\u001b[0m\n\u001b[1;32m     13\u001b[0m     \u001b[0;32mfor\u001b[0m \u001b[0mword\u001b[0m \u001b[0;32min\u001b[0m \u001b[0mword_count\u001b[0m\u001b[0;34m.\u001b[0m\u001b[0mkeys\u001b[0m\u001b[0;34m(\u001b[0m\u001b[0;34m)\u001b[0m\u001b[0;34m:\u001b[0m\u001b[0;34m\u001b[0m\u001b[0;34m\u001b[0m\u001b[0m\n\u001b[0;32m---> 14\u001b[0;31m       \u001b[0mword_count\u001b[0m\u001b[0;34m[\u001b[0m\u001b[0mword\u001b[0m\u001b[0;34m]\u001b[0m \u001b[0;34m=\u001b[0m \u001b[0mword_count\u001b[0m\u001b[0;34m[\u001b[0m\u001b[0mword\u001b[0m\u001b[0;34m]\u001b[0m\u001b[0;34m/\u001b[0m\u001b[0mlen\u001b[0m\u001b[0;34m(\u001b[0m\u001b[0mdf\u001b[0m\u001b[0;34m.\u001b[0m\u001b[0miloc\u001b[0m\u001b[0;34m[\u001b[0m\u001b[0mi\u001b[0m\u001b[0;34m]\u001b[0m\u001b[0;34m[\u001b[0m\u001b[0;36m2\u001b[0m\u001b[0;34m]\u001b[0m\u001b[0;34m)\u001b[0m\u001b[0;34m\u001b[0m\u001b[0;34m\u001b[0m\u001b[0m\n\u001b[0m\u001b[1;32m     15\u001b[0m \u001b[0;34m\u001b[0m\u001b[0m\n\u001b[1;32m     16\u001b[0m     \u001b[0mTF_IDF\u001b[0m\u001b[0;34m[\u001b[0m\u001b[0mi\u001b[0m\u001b[0;34m]\u001b[0m \u001b[0;34m=\u001b[0m \u001b[0mlist\u001b[0m\u001b[0;34m(\u001b[0m\u001b[0mword_count\u001b[0m\u001b[0;34m.\u001b[0m\u001b[0mvalues\u001b[0m\u001b[0;34m(\u001b[0m\u001b[0;34m)\u001b[0m\u001b[0;34m)\u001b[0m\u001b[0;34m\u001b[0m\u001b[0;34m\u001b[0m\u001b[0m\n",
            "\u001b[0;32m/usr/local/lib/python3.7/dist-packages/pandas/core/indexing.py\u001b[0m in \u001b[0;36m__getitem__\u001b[0;34m(self, key)\u001b[0m\n\u001b[1;32m    929\u001b[0m \u001b[0;34m\u001b[0m\u001b[0m\n\u001b[1;32m    930\u001b[0m             \u001b[0mmaybe_callable\u001b[0m \u001b[0;34m=\u001b[0m \u001b[0mcom\u001b[0m\u001b[0;34m.\u001b[0m\u001b[0mapply_if_callable\u001b[0m\u001b[0;34m(\u001b[0m\u001b[0mkey\u001b[0m\u001b[0;34m,\u001b[0m \u001b[0mself\u001b[0m\u001b[0;34m.\u001b[0m\u001b[0mobj\u001b[0m\u001b[0;34m)\u001b[0m\u001b[0;34m\u001b[0m\u001b[0;34m\u001b[0m\u001b[0m\n\u001b[0;32m--> 931\u001b[0;31m             \u001b[0;32mreturn\u001b[0m \u001b[0mself\u001b[0m\u001b[0;34m.\u001b[0m\u001b[0m_getitem_axis\u001b[0m\u001b[0;34m(\u001b[0m\u001b[0mmaybe_callable\u001b[0m\u001b[0;34m,\u001b[0m \u001b[0maxis\u001b[0m\u001b[0;34m=\u001b[0m\u001b[0maxis\u001b[0m\u001b[0;34m)\u001b[0m\u001b[0;34m\u001b[0m\u001b[0;34m\u001b[0m\u001b[0m\n\u001b[0m\u001b[1;32m    932\u001b[0m \u001b[0;34m\u001b[0m\u001b[0m\n\u001b[1;32m    933\u001b[0m     \u001b[0;32mdef\u001b[0m \u001b[0m_is_scalar_access\u001b[0m\u001b[0;34m(\u001b[0m\u001b[0mself\u001b[0m\u001b[0;34m,\u001b[0m \u001b[0mkey\u001b[0m\u001b[0;34m:\u001b[0m \u001b[0mtuple\u001b[0m\u001b[0;34m)\u001b[0m\u001b[0;34m:\u001b[0m\u001b[0;34m\u001b[0m\u001b[0;34m\u001b[0m\u001b[0m\n",
            "\u001b[0;32m/usr/local/lib/python3.7/dist-packages/pandas/core/indexing.py\u001b[0m in \u001b[0;36m_getitem_axis\u001b[0;34m(self, key, axis)\u001b[0m\n\u001b[1;32m   1566\u001b[0m             \u001b[0mself\u001b[0m\u001b[0;34m.\u001b[0m\u001b[0m_validate_integer\u001b[0m\u001b[0;34m(\u001b[0m\u001b[0mkey\u001b[0m\u001b[0;34m,\u001b[0m \u001b[0maxis\u001b[0m\u001b[0;34m)\u001b[0m\u001b[0;34m\u001b[0m\u001b[0;34m\u001b[0m\u001b[0m\n\u001b[1;32m   1567\u001b[0m \u001b[0;34m\u001b[0m\u001b[0m\n\u001b[0;32m-> 1568\u001b[0;31m             \u001b[0;32mreturn\u001b[0m \u001b[0mself\u001b[0m\u001b[0;34m.\u001b[0m\u001b[0mobj\u001b[0m\u001b[0;34m.\u001b[0m\u001b[0m_ixs\u001b[0m\u001b[0;34m(\u001b[0m\u001b[0mkey\u001b[0m\u001b[0;34m,\u001b[0m \u001b[0maxis\u001b[0m\u001b[0;34m=\u001b[0m\u001b[0maxis\u001b[0m\u001b[0;34m)\u001b[0m\u001b[0;34m\u001b[0m\u001b[0;34m\u001b[0m\u001b[0m\n\u001b[0m\u001b[1;32m   1569\u001b[0m \u001b[0;34m\u001b[0m\u001b[0m\n\u001b[1;32m   1570\u001b[0m     \u001b[0;32mdef\u001b[0m \u001b[0m_get_slice_axis\u001b[0m\u001b[0;34m(\u001b[0m\u001b[0mself\u001b[0m\u001b[0;34m,\u001b[0m \u001b[0mslice_obj\u001b[0m\u001b[0;34m:\u001b[0m \u001b[0mslice\u001b[0m\u001b[0;34m,\u001b[0m \u001b[0maxis\u001b[0m\u001b[0;34m:\u001b[0m \u001b[0mint\u001b[0m\u001b[0;34m)\u001b[0m\u001b[0;34m:\u001b[0m\u001b[0;34m\u001b[0m\u001b[0;34m\u001b[0m\u001b[0m\n",
            "\u001b[0;32m/usr/local/lib/python3.7/dist-packages/pandas/core/frame.py\u001b[0m in \u001b[0;36m_ixs\u001b[0;34m(self, i, axis)\u001b[0m\n\u001b[1;32m   3385\u001b[0m                 \u001b[0mindex\u001b[0m\u001b[0;34m=\u001b[0m\u001b[0mself\u001b[0m\u001b[0;34m.\u001b[0m\u001b[0mcolumns\u001b[0m\u001b[0;34m,\u001b[0m\u001b[0;34m\u001b[0m\u001b[0;34m\u001b[0m\u001b[0m\n\u001b[1;32m   3386\u001b[0m                 \u001b[0mname\u001b[0m\u001b[0;34m=\u001b[0m\u001b[0mself\u001b[0m\u001b[0;34m.\u001b[0m\u001b[0mindex\u001b[0m\u001b[0;34m[\u001b[0m\u001b[0mi\u001b[0m\u001b[0;34m]\u001b[0m\u001b[0;34m,\u001b[0m\u001b[0;34m\u001b[0m\u001b[0;34m\u001b[0m\u001b[0m\n\u001b[0;32m-> 3387\u001b[0;31m                 \u001b[0mdtype\u001b[0m\u001b[0;34m=\u001b[0m\u001b[0mnew_values\u001b[0m\u001b[0;34m.\u001b[0m\u001b[0mdtype\u001b[0m\u001b[0;34m,\u001b[0m\u001b[0;34m\u001b[0m\u001b[0;34m\u001b[0m\u001b[0m\n\u001b[0m\u001b[1;32m   3388\u001b[0m             )\n\u001b[1;32m   3389\u001b[0m             \u001b[0mresult\u001b[0m\u001b[0;34m.\u001b[0m\u001b[0m_set_is_copy\u001b[0m\u001b[0;34m(\u001b[0m\u001b[0mself\u001b[0m\u001b[0;34m,\u001b[0m \u001b[0mcopy\u001b[0m\u001b[0;34m=\u001b[0m\u001b[0mcopy\u001b[0m\u001b[0;34m)\u001b[0m\u001b[0;34m\u001b[0m\u001b[0;34m\u001b[0m\u001b[0m\n",
            "\u001b[0;32m/usr/local/lib/python3.7/dist-packages/pandas/core/series.py\u001b[0m in \u001b[0;36m__init__\u001b[0;34m(self, data, index, dtype, name, copy, fastpath)\u001b[0m\n\u001b[1;32m    437\u001b[0m                     \u001b[0mdata\u001b[0m \u001b[0;34m=\u001b[0m \u001b[0mdata\u001b[0m\u001b[0;34m.\u001b[0m\u001b[0mcopy\u001b[0m\u001b[0;34m(\u001b[0m\u001b[0;34m)\u001b[0m\u001b[0;34m\u001b[0m\u001b[0;34m\u001b[0m\u001b[0m\n\u001b[1;32m    438\u001b[0m             \u001b[0;32melse\u001b[0m\u001b[0;34m:\u001b[0m\u001b[0;34m\u001b[0m\u001b[0;34m\u001b[0m\u001b[0m\n\u001b[0;32m--> 439\u001b[0;31m                 \u001b[0mdata\u001b[0m \u001b[0;34m=\u001b[0m \u001b[0msanitize_array\u001b[0m\u001b[0;34m(\u001b[0m\u001b[0mdata\u001b[0m\u001b[0;34m,\u001b[0m \u001b[0mindex\u001b[0m\u001b[0;34m,\u001b[0m \u001b[0mdtype\u001b[0m\u001b[0;34m,\u001b[0m \u001b[0mcopy\u001b[0m\u001b[0;34m)\u001b[0m\u001b[0;34m\u001b[0m\u001b[0;34m\u001b[0m\u001b[0m\n\u001b[0m\u001b[1;32m    440\u001b[0m \u001b[0;34m\u001b[0m\u001b[0m\n\u001b[1;32m    441\u001b[0m                 \u001b[0mmanager\u001b[0m \u001b[0;34m=\u001b[0m \u001b[0mget_option\u001b[0m\u001b[0;34m(\u001b[0m\u001b[0;34m\"mode.data_manager\"\u001b[0m\u001b[0;34m)\u001b[0m\u001b[0;34m\u001b[0m\u001b[0;34m\u001b[0m\u001b[0m\n",
            "\u001b[0;32m/usr/local/lib/python3.7/dist-packages/pandas/core/construction.py\u001b[0m in \u001b[0;36msanitize_array\u001b[0;34m(data, index, dtype, copy, raise_cast_failure, allow_2d)\u001b[0m\n\u001b[1;32m    574\u001b[0m                 \u001b[0msubarr\u001b[0m \u001b[0;34m=\u001b[0m \u001b[0mmaybe_infer_to_datetimelike\u001b[0m\u001b[0;34m(\u001b[0m\u001b[0msubarr\u001b[0m\u001b[0;34m)\u001b[0m\u001b[0;34m\u001b[0m\u001b[0;34m\u001b[0m\u001b[0m\n\u001b[1;32m    575\u001b[0m \u001b[0;34m\u001b[0m\u001b[0m\n\u001b[0;32m--> 576\u001b[0;31m     \u001b[0msubarr\u001b[0m \u001b[0;34m=\u001b[0m \u001b[0m_sanitize_ndim\u001b[0m\u001b[0;34m(\u001b[0m\u001b[0msubarr\u001b[0m\u001b[0;34m,\u001b[0m \u001b[0mdata\u001b[0m\u001b[0;34m,\u001b[0m \u001b[0mdtype\u001b[0m\u001b[0;34m,\u001b[0m \u001b[0mindex\u001b[0m\u001b[0;34m,\u001b[0m \u001b[0mallow_2d\u001b[0m\u001b[0;34m=\u001b[0m\u001b[0mallow_2d\u001b[0m\u001b[0;34m)\u001b[0m\u001b[0;34m\u001b[0m\u001b[0;34m\u001b[0m\u001b[0m\n\u001b[0m\u001b[1;32m    577\u001b[0m \u001b[0;34m\u001b[0m\u001b[0m\n\u001b[1;32m    578\u001b[0m     \u001b[0;32mif\u001b[0m \u001b[0misinstance\u001b[0m\u001b[0;34m(\u001b[0m\u001b[0msubarr\u001b[0m\u001b[0;34m,\u001b[0m \u001b[0mnp\u001b[0m\u001b[0;34m.\u001b[0m\u001b[0mndarray\u001b[0m\u001b[0;34m)\u001b[0m\u001b[0;34m:\u001b[0m\u001b[0;34m\u001b[0m\u001b[0;34m\u001b[0m\u001b[0m\n",
            "\u001b[0;32m/usr/local/lib/python3.7/dist-packages/pandas/core/construction.py\u001b[0m in \u001b[0;36m_sanitize_ndim\u001b[0;34m(result, data, dtype, index, allow_2d)\u001b[0m\n\u001b[1;32m    619\u001b[0m     \u001b[0;32melif\u001b[0m \u001b[0mresult\u001b[0m\u001b[0;34m.\u001b[0m\u001b[0mndim\u001b[0m \u001b[0;34m==\u001b[0m \u001b[0;36m1\u001b[0m\u001b[0;34m:\u001b[0m\u001b[0;34m\u001b[0m\u001b[0;34m\u001b[0m\u001b[0m\n\u001b[1;32m    620\u001b[0m         \u001b[0;31m# the result that we want\u001b[0m\u001b[0;34m\u001b[0m\u001b[0;34m\u001b[0m\u001b[0;34m\u001b[0m\u001b[0m\n\u001b[0;32m--> 621\u001b[0;31m         \u001b[0mresult\u001b[0m \u001b[0;34m=\u001b[0m \u001b[0m_maybe_repeat\u001b[0m\u001b[0;34m(\u001b[0m\u001b[0mresult\u001b[0m\u001b[0;34m,\u001b[0m \u001b[0mindex\u001b[0m\u001b[0;34m)\u001b[0m\u001b[0;34m\u001b[0m\u001b[0;34m\u001b[0m\u001b[0m\n\u001b[0m\u001b[1;32m    622\u001b[0m \u001b[0;34m\u001b[0m\u001b[0m\n\u001b[1;32m    623\u001b[0m     \u001b[0;32melif\u001b[0m \u001b[0mresult\u001b[0m\u001b[0;34m.\u001b[0m\u001b[0mndim\u001b[0m \u001b[0;34m>\u001b[0m \u001b[0;36m1\u001b[0m\u001b[0;34m:\u001b[0m\u001b[0;34m\u001b[0m\u001b[0;34m\u001b[0m\u001b[0m\n",
            "\u001b[0;31mKeyboardInterrupt\u001b[0m: "
          ]
        }
      ]
    },
    {
      "cell_type": "code",
      "source": [
        "TF_IDF = pd.DataFrame(TF_IDF)\n",
        "TF_IDF.to_csv('/content/gdrive/MyDrive/IR Assignments/IR Assignment 1/Term Frequency TF_IDF.csv')"
      ],
      "metadata": {
        "id": "Dr6L_y7SBu6e"
      },
      "execution_count": null,
      "outputs": []
    },
    {
      "cell_type": "code",
      "source": [
        "import math\n",
        "def Log_Normalization(TF_IDF): \n",
        "  for i in range(len(df)):\n",
        "    TF_IDF.append(0)\n",
        "\n",
        "  for i in range(len(df)):\n",
        "    word_count = {}\n",
        "    for word in word_freq.keys():\n",
        "      word_count[word] = 0\n",
        "    \n",
        "    for word in df.iloc[i][2]:\n",
        "      word_count[word] = word_count[word]+1\n",
        "\n",
        "    for word in word_count.keys():\n",
        "      word_count[word] = math.log(1 + word_count[word])\n",
        "\n",
        "    TF_IDF[i] = list(word_count.values())\n",
        "\n",
        "  for i in range(len(df)):\n",
        "    for j in range(len(word_freq.keys())):\n",
        "      TF_IDF[i][j] = TF_IDF[i][j]*IDF[j]\n",
        "    \n",
        "  return TF_IDF"
      ],
      "metadata": {
        "id": "MZqCW0e2B7LT"
      },
      "execution_count": 42,
      "outputs": []
    },
    {
      "cell_type": "code",
      "source": [
        "TF_IDF=[]\n",
        "TF_IDF=Log_Normalization(TF_IDF)"
      ],
      "metadata": {
        "id": "zOnSRzHcCvVV"
      },
      "execution_count": null,
      "outputs": []
    },
    {
      "cell_type": "code",
      "source": [
        "TF_IDF = pd.DataFrame(TF_IDF)\n",
        "TF_IDF.to_csv('/content/gdrive/MyDrive/IR Assignments/IR Assignment 1/Log Normalization TF_IDF.csv')"
      ],
      "metadata": {
        "id": "gp3AXgjEC2aT"
      },
      "execution_count": null,
      "outputs": []
    },
    {
      "cell_type": "code",
      "source": [
        "import math\n",
        "def Double_Normalization(TF_IDF): \n",
        "  for i in range(len(df)):\n",
        "    TF_IDF.append(0)\n",
        "\n",
        "  for i in range(len(df)):\n",
        "    Maximum=0\n",
        "    word_count = {}\n",
        "    for word in word_freq.keys():\n",
        "      word_count[word] = 0\n",
        "    \n",
        "    for word in df.iloc[i][2]:\n",
        "      word_count[word] = word_count[word]+1\n",
        "    \n",
        "\n",
        "    for word in word_count.keys():\n",
        "      if(word_count[word]>Maximum):\n",
        "        Maximum = word_count[word]\n",
        "    \n",
        "    for word in word_count.keys():\n",
        "      word_count[word] = 0.5 + 0.5*(word_count[word]/Maximum)\n",
        "      \n",
        "    TF_IDF[i] = list(word_count.values())\n",
        "\n",
        "  for i in range(len(df)):\n",
        "    for j in range(len(word_freq.keys())):\n",
        "      TF_IDF[i][j] = TF_IDF[i][j]*IDF[j]\n",
        "    \n",
        "  return TF_IDF"
      ],
      "metadata": {
        "id": "w0AbgsSYDNTz"
      },
      "execution_count": 45,
      "outputs": []
    },
    {
      "cell_type": "code",
      "source": [
        "TF_IDF=[]\n",
        "TF_IDF=Double_Normalization(TF_IDF)"
      ],
      "metadata": {
        "id": "aHT-Mm2O8L0_"
      },
      "execution_count": null,
      "outputs": []
    },
    {
      "cell_type": "code",
      "source": [
        "TF_IDF = pd.DataFrame(TF_IDF)\n",
        "TF_IDF.to_csv('/content/gdrive/MyDrive/IR Assignments/IR Assignment 1/Log Normalization TF_IDF.csv')"
      ],
      "metadata": {
        "id": "PPxuVsFK8Oz9"
      },
      "execution_count": null,
      "outputs": []
    },
    {
      "cell_type": "code",
      "source": [
        "index = {}\n",
        "i=0\n",
        "for word in word_freq.keys():\n",
        "  index[word] = i\n",
        "  i = i+1\n"
      ],
      "metadata": {
        "id": "Vmj1PAUBEuay"
      },
      "execution_count": 38,
      "outputs": []
    },
    {
      "cell_type": "code",
      "source": [
        "def calc_top5(q_input, TF_IDF):\n",
        "  TF_IDF_pred=[]\n",
        "  TF_IDF_temp=[]\n",
        "  for i in range(len(df)):\n",
        "    TF_IDF_temp=[]\n",
        "    score=0\n",
        "    for word in q_input:\n",
        "      score=score+ TF_IDF[i][index[word]]\n",
        "    TF_IDF_temp.append(df.iloc[i][1])\n",
        "    TF_IDF_temp.append(score)\n",
        "    TF_IDF_pred.append(TF_IDF_temp)\n",
        "  return TF_IDF_pred\n",
        "\n",
        "\n"
      ],
      "metadata": {
        "id": "r395wdS9Ku_x"
      },
      "execution_count": 36,
      "outputs": []
    },
    {
      "cell_type": "code",
      "source": [
        "# Taking input of query\n",
        "#preprocession of each file in Dataset\n",
        "from nltk.stem import WordNetLemmatizer\n",
        "from nltk.tokenize import word_tokenize\n",
        "#nltk.download('wordnet')\n",
        "query=input(\"Enter the query:\")\n",
        "#preprocessedquery=preprocessing(query)\n",
        "q_input=[]\n",
        "q_input=pre_processing_query(query)\n",
        "TF_IDF=[]\n",
        "TF_IDF=Binary(TF_IDF)\n",
        "TF_IDF_Prediction=[]\n",
        "TF_IDF_Prediction= calc_top5(q_input,TF_IDF)\n",
        "\n",
        "TF_IDF_Prediction = pd.DataFrame(TF_IDF_Prediction, columns =['Document Name', 'TF IDF Score'])\n",
        "\n",
        "TF_IDF_Prediction=TF_IDF_Prediction.sort_values(by=\"TF IDF Score\",ascending=False)\n",
        "print(\"Top 5 Documents using Binary weigthing Scheme \\n\")\n",
        "print(\"Document Name\", \" \", \"TF IDF Score\")\n",
        "for i in range(5):\n",
        "  print(TF_IDF_Prediction.iloc[i][0], \" \", TF_IDF_Prediction.iloc[i][1])"
      ],
      "metadata": {
        "id": "KlVRMv3RJgIr",
        "colab": {
          "base_uri": "https://localhost:8080/"
        },
        "outputId": "a1789b5b-308c-4d7d-ecd6-6c9001f23c82"
      },
      "execution_count": 48,
      "outputs": [
        {
          "output_type": "stream",
          "name": "stdout",
          "text": [
            "Enter the query:tiger lion cat\n",
            "Top 5 Documents using Binary weigthing Scheme \n",
            "\n",
            "Document Name   TF IDF Score\n",
            "dthought.txt   7.633917440122534\n",
            "deep.txt   7.633917440122534\n",
            "mlverb.hum   5.9393217193481265\n",
            "grospoem.txt   5.9393217193481265\n",
            "lost.txt   5.9393217193481265\n"
          ]
        }
      ]
    },
    {
      "cell_type": "code",
      "source": [
        "TF_IDF_Prediction.iloc[5][1]"
      ],
      "metadata": {
        "colab": {
          "base_uri": "https://localhost:8080/"
        },
        "id": "uoCdvXtp69aL",
        "outputId": "e9070fa6-83c5-41b4-a8cd-3f9be418449b"
      },
      "execution_count": 50,
      "outputs": [
        {
          "output_type": "execute_result",
          "data": {
            "text/plain": [
              "5.778979069272948"
            ]
          },
          "metadata": {},
          "execution_count": 50
        }
      ]
    },
    {
      "cell_type": "code",
      "source": [
        "# Taking input of query\n",
        "#preprocession of each file in Dataset\n",
        "from nltk.stem import WordNetLemmatizer\n",
        "from nltk.tokenize import word_tokenize\n",
        "#nltk.download('wordnet')\n",
        "query=input(\"Enter the query:\")\n",
        "#preprocessedquery=preprocessing(query)\n",
        "q_input=[]\n",
        "q_input=pre_processing_query(query)\n",
        "TF_IDF=[]\n",
        "TF_IDF=Raw_Count(TF_IDF)\n",
        "TF_IDF_Prediction=[]\n",
        "TF_IDF_Prediction= calc_top5(q_input,TF_IDF)\n",
        "\n",
        "TF_IDF_Prediction = pd.DataFrame(TF_IDF_Prediction, columns =['Document Name', 'TF IDF Score'])\n",
        "\n",
        "TF_IDF_Prediction=TF_IDF_Prediction.sort_values(by=\"TF IDF Score\",ascending=False)\n",
        "print(\"Top 5 Documents using Raw Count weigthing Scheme \\n\")\n",
        "print(\"Document Name\", \" \", \"TF IDF Score\")\n",
        "for i in range(5):\n",
        "  print(TF_IDF_Prediction.iloc[i][0], \" \", TF_IDF_Prediction.iloc[i][1])"
      ],
      "metadata": {
        "id": "PXmDQA0fNVzZ",
        "colab": {
          "base_uri": "https://localhost:8080/"
        },
        "outputId": "1477cd16-7c32-4361-c84c-461f7c76e5e2"
      },
      "execution_count": 51,
      "outputs": [
        {
          "output_type": "stream",
          "name": "stdout",
          "text": [
            "Enter the query:tiger lion cat\n",
            "Top 5 Documents using Raw Count weigthing Scheme \n",
            "\n",
            "Document Name   TF IDF Score\n",
            "lions.cat   0.020833333333333332\n",
            "lion.jok   0.011494252873563218\n",
            "lion.txt   0.008130081300813009\n",
            "scratchy.txt   0.008064516129032258\n",
            "boneles2.txt   0.008\n"
          ]
        }
      ]
    },
    {
      "cell_type": "code",
      "source": [
        "# Taking input of query\n",
        "#preprocession of each file in Dataset\n",
        "from nltk.stem import WordNetLemmatizer\n",
        "from nltk.tokenize import word_tokenize\n",
        "#nltk.download('wordnet')\n",
        "query=input(\"Enter the query:\")\n",
        "#preprocessedquery=preprocessing(query)\n",
        "q_input=[]\n",
        "q_input=pre_processing_query(query)\n",
        "TF_IDF=[]\n",
        "TF_IDF=Term_Frequency(TF_IDF)\n",
        "TF_IDF_Prediction=[]\n",
        "TF_IDF_Prediction= calc_top5(q_input,TF_IDF)\n",
        "\n",
        "TF_IDF_Prediction = pd.DataFrame(TF_IDF_Prediction, columns =['Document Name', 'TF IDF Score'])\n",
        "\n",
        "TF_IDF_Prediction=TF_IDF_Prediction.sort_values(by=\"TF IDF Score\",ascending=False)\n",
        "print(\"Top 5 Documents using Term Frequency weigthing Scheme \\n\")\n",
        "print(\"Document Name\", \" \", \"TF IDF Score\")\n",
        "for i in range(5):\n",
        "  print(TF_IDF_Prediction.iloc[i][0], \" \", TF_IDF_Prediction.iloc[i][1])"
      ],
      "metadata": {
        "id": "MQ3xwtzoJZrO",
        "colab": {
          "base_uri": "https://localhost:8080/",
          "height": 398
        },
        "outputId": "791c8a98-496d-4a2f-b0e9-14cd7c74d436"
      },
      "execution_count": 47,
      "outputs": [
        {
          "name": "stdout",
          "output_type": "stream",
          "text": [
            "Enter the query:tiger lion cat\n"
          ]
        },
        {
          "output_type": "error",
          "ename": "KeyboardInterrupt",
          "evalue": "ignored",
          "traceback": [
            "\u001b[0;31m---------------------------------------------------------------------------\u001b[0m",
            "\u001b[0;31mKeyboardInterrupt\u001b[0m                         Traceback (most recent call last)",
            "\u001b[0;32m<ipython-input-47-5877601294eb>\u001b[0m in \u001b[0;36m<module>\u001b[0;34m()\u001b[0m\n\u001b[1;32m      9\u001b[0m \u001b[0mq_input\u001b[0m\u001b[0;34m=\u001b[0m\u001b[0mpre_processing_query\u001b[0m\u001b[0;34m(\u001b[0m\u001b[0mquery\u001b[0m\u001b[0;34m)\u001b[0m\u001b[0;34m\u001b[0m\u001b[0;34m\u001b[0m\u001b[0m\n\u001b[1;32m     10\u001b[0m \u001b[0mTF_IDF\u001b[0m\u001b[0;34m=\u001b[0m\u001b[0;34m[\u001b[0m\u001b[0;34m]\u001b[0m\u001b[0;34m\u001b[0m\u001b[0;34m\u001b[0m\u001b[0m\n\u001b[0;32m---> 11\u001b[0;31m \u001b[0mTF_IDF\u001b[0m\u001b[0;34m=\u001b[0m\u001b[0mTerm_Frequency\u001b[0m\u001b[0;34m(\u001b[0m\u001b[0mTF_IDF\u001b[0m\u001b[0;34m)\u001b[0m\u001b[0;34m\u001b[0m\u001b[0;34m\u001b[0m\u001b[0m\n\u001b[0m\u001b[1;32m     12\u001b[0m \u001b[0mTF_IDF_Prediction\u001b[0m\u001b[0;34m=\u001b[0m\u001b[0;34m[\u001b[0m\u001b[0;34m]\u001b[0m\u001b[0;34m\u001b[0m\u001b[0;34m\u001b[0m\u001b[0m\n\u001b[1;32m     13\u001b[0m \u001b[0mTF_IDF_Prediction\u001b[0m\u001b[0;34m=\u001b[0m \u001b[0mcalc_top5\u001b[0m\u001b[0;34m(\u001b[0m\u001b[0mq_input\u001b[0m\u001b[0;34m,\u001b[0m\u001b[0mTF_IDF\u001b[0m\u001b[0;34m)\u001b[0m\u001b[0;34m\u001b[0m\u001b[0;34m\u001b[0m\u001b[0m\n",
            "\u001b[0;32m<ipython-input-28-b2d9508ff651>\u001b[0m in \u001b[0;36mTerm_Frequency\u001b[0;34m(TF_IDF)\u001b[0m\n\u001b[1;32m     12\u001b[0m \u001b[0;34m\u001b[0m\u001b[0m\n\u001b[1;32m     13\u001b[0m     \u001b[0;32mfor\u001b[0m \u001b[0mword\u001b[0m \u001b[0;32min\u001b[0m \u001b[0mword_count\u001b[0m\u001b[0;34m.\u001b[0m\u001b[0mkeys\u001b[0m\u001b[0;34m(\u001b[0m\u001b[0;34m)\u001b[0m\u001b[0;34m:\u001b[0m\u001b[0;34m\u001b[0m\u001b[0;34m\u001b[0m\u001b[0m\n\u001b[0;32m---> 14\u001b[0;31m       \u001b[0mword_count\u001b[0m\u001b[0;34m[\u001b[0m\u001b[0mword\u001b[0m\u001b[0;34m]\u001b[0m \u001b[0;34m=\u001b[0m \u001b[0mword_count\u001b[0m\u001b[0;34m[\u001b[0m\u001b[0mword\u001b[0m\u001b[0;34m]\u001b[0m\u001b[0;34m/\u001b[0m\u001b[0mlen\u001b[0m\u001b[0;34m(\u001b[0m\u001b[0mdf\u001b[0m\u001b[0;34m.\u001b[0m\u001b[0miloc\u001b[0m\u001b[0;34m[\u001b[0m\u001b[0mi\u001b[0m\u001b[0;34m]\u001b[0m\u001b[0;34m[\u001b[0m\u001b[0;36m2\u001b[0m\u001b[0;34m]\u001b[0m\u001b[0;34m)\u001b[0m\u001b[0;34m\u001b[0m\u001b[0;34m\u001b[0m\u001b[0m\n\u001b[0m\u001b[1;32m     15\u001b[0m \u001b[0;34m\u001b[0m\u001b[0m\n\u001b[1;32m     16\u001b[0m     \u001b[0mTF_IDF\u001b[0m\u001b[0;34m[\u001b[0m\u001b[0mi\u001b[0m\u001b[0;34m]\u001b[0m \u001b[0;34m=\u001b[0m \u001b[0mlist\u001b[0m\u001b[0;34m(\u001b[0m\u001b[0mword_count\u001b[0m\u001b[0;34m.\u001b[0m\u001b[0mvalues\u001b[0m\u001b[0;34m(\u001b[0m\u001b[0;34m)\u001b[0m\u001b[0;34m)\u001b[0m\u001b[0;34m\u001b[0m\u001b[0;34m\u001b[0m\u001b[0m\n",
            "\u001b[0;32m/usr/local/lib/python3.7/dist-packages/pandas/core/indexing.py\u001b[0m in \u001b[0;36m__getitem__\u001b[0;34m(self, key)\u001b[0m\n\u001b[1;32m    929\u001b[0m \u001b[0;34m\u001b[0m\u001b[0m\n\u001b[1;32m    930\u001b[0m             \u001b[0mmaybe_callable\u001b[0m \u001b[0;34m=\u001b[0m \u001b[0mcom\u001b[0m\u001b[0;34m.\u001b[0m\u001b[0mapply_if_callable\u001b[0m\u001b[0;34m(\u001b[0m\u001b[0mkey\u001b[0m\u001b[0;34m,\u001b[0m \u001b[0mself\u001b[0m\u001b[0;34m.\u001b[0m\u001b[0mobj\u001b[0m\u001b[0;34m)\u001b[0m\u001b[0;34m\u001b[0m\u001b[0;34m\u001b[0m\u001b[0m\n\u001b[0;32m--> 931\u001b[0;31m             \u001b[0;32mreturn\u001b[0m \u001b[0mself\u001b[0m\u001b[0;34m.\u001b[0m\u001b[0m_getitem_axis\u001b[0m\u001b[0;34m(\u001b[0m\u001b[0mmaybe_callable\u001b[0m\u001b[0;34m,\u001b[0m \u001b[0maxis\u001b[0m\u001b[0;34m=\u001b[0m\u001b[0maxis\u001b[0m\u001b[0;34m)\u001b[0m\u001b[0;34m\u001b[0m\u001b[0;34m\u001b[0m\u001b[0m\n\u001b[0m\u001b[1;32m    932\u001b[0m \u001b[0;34m\u001b[0m\u001b[0m\n\u001b[1;32m    933\u001b[0m     \u001b[0;32mdef\u001b[0m \u001b[0m_is_scalar_access\u001b[0m\u001b[0;34m(\u001b[0m\u001b[0mself\u001b[0m\u001b[0;34m,\u001b[0m \u001b[0mkey\u001b[0m\u001b[0;34m:\u001b[0m \u001b[0mtuple\u001b[0m\u001b[0;34m)\u001b[0m\u001b[0;34m:\u001b[0m\u001b[0;34m\u001b[0m\u001b[0;34m\u001b[0m\u001b[0m\n",
            "\u001b[0;32m/usr/local/lib/python3.7/dist-packages/pandas/core/indexing.py\u001b[0m in \u001b[0;36m_getitem_axis\u001b[0;34m(self, key, axis)\u001b[0m\n\u001b[1;32m   1566\u001b[0m             \u001b[0mself\u001b[0m\u001b[0;34m.\u001b[0m\u001b[0m_validate_integer\u001b[0m\u001b[0;34m(\u001b[0m\u001b[0mkey\u001b[0m\u001b[0;34m,\u001b[0m \u001b[0maxis\u001b[0m\u001b[0;34m)\u001b[0m\u001b[0;34m\u001b[0m\u001b[0;34m\u001b[0m\u001b[0m\n\u001b[1;32m   1567\u001b[0m \u001b[0;34m\u001b[0m\u001b[0m\n\u001b[0;32m-> 1568\u001b[0;31m             \u001b[0;32mreturn\u001b[0m \u001b[0mself\u001b[0m\u001b[0;34m.\u001b[0m\u001b[0mobj\u001b[0m\u001b[0;34m.\u001b[0m\u001b[0m_ixs\u001b[0m\u001b[0;34m(\u001b[0m\u001b[0mkey\u001b[0m\u001b[0;34m,\u001b[0m \u001b[0maxis\u001b[0m\u001b[0;34m=\u001b[0m\u001b[0maxis\u001b[0m\u001b[0;34m)\u001b[0m\u001b[0;34m\u001b[0m\u001b[0;34m\u001b[0m\u001b[0m\n\u001b[0m\u001b[1;32m   1569\u001b[0m \u001b[0;34m\u001b[0m\u001b[0m\n\u001b[1;32m   1570\u001b[0m     \u001b[0;32mdef\u001b[0m \u001b[0m_get_slice_axis\u001b[0m\u001b[0;34m(\u001b[0m\u001b[0mself\u001b[0m\u001b[0;34m,\u001b[0m \u001b[0mslice_obj\u001b[0m\u001b[0;34m:\u001b[0m \u001b[0mslice\u001b[0m\u001b[0;34m,\u001b[0m \u001b[0maxis\u001b[0m\u001b[0;34m:\u001b[0m \u001b[0mint\u001b[0m\u001b[0;34m)\u001b[0m\u001b[0;34m:\u001b[0m\u001b[0;34m\u001b[0m\u001b[0;34m\u001b[0m\u001b[0m\n",
            "\u001b[0;32m/usr/local/lib/python3.7/dist-packages/pandas/core/frame.py\u001b[0m in \u001b[0;36m_ixs\u001b[0;34m(self, i, axis)\u001b[0m\n\u001b[1;32m   3377\u001b[0m         \u001b[0;31m# irow\u001b[0m\u001b[0;34m\u001b[0m\u001b[0;34m\u001b[0m\u001b[0;34m\u001b[0m\u001b[0m\n\u001b[1;32m   3378\u001b[0m         \u001b[0;32mif\u001b[0m \u001b[0maxis\u001b[0m \u001b[0;34m==\u001b[0m \u001b[0;36m0\u001b[0m\u001b[0;34m:\u001b[0m\u001b[0;34m\u001b[0m\u001b[0;34m\u001b[0m\u001b[0m\n\u001b[0;32m-> 3379\u001b[0;31m             \u001b[0mnew_values\u001b[0m \u001b[0;34m=\u001b[0m \u001b[0mself\u001b[0m\u001b[0;34m.\u001b[0m\u001b[0m_mgr\u001b[0m\u001b[0;34m.\u001b[0m\u001b[0mfast_xs\u001b[0m\u001b[0;34m(\u001b[0m\u001b[0mi\u001b[0m\u001b[0;34m)\u001b[0m\u001b[0;34m\u001b[0m\u001b[0;34m\u001b[0m\u001b[0m\n\u001b[0m\u001b[1;32m   3380\u001b[0m \u001b[0;34m\u001b[0m\u001b[0m\n\u001b[1;32m   3381\u001b[0m             \u001b[0;31m# if we are a copy, mark as such\u001b[0m\u001b[0;34m\u001b[0m\u001b[0;34m\u001b[0m\u001b[0;34m\u001b[0m\u001b[0m\n",
            "\u001b[0;32m/usr/local/lib/python3.7/dist-packages/pandas/core/internals/managers.py\u001b[0m in \u001b[0;36mfast_xs\u001b[0;34m(self, loc)\u001b[0m\n\u001b[1;32m    952\u001b[0m             \u001b[0;32mreturn\u001b[0m \u001b[0mself\u001b[0m\u001b[0;34m.\u001b[0m\u001b[0mblocks\u001b[0m\u001b[0;34m[\u001b[0m\u001b[0;36m0\u001b[0m\u001b[0;34m]\u001b[0m\u001b[0;34m.\u001b[0m\u001b[0miget\u001b[0m\u001b[0;34m(\u001b[0m\u001b[0;34m(\u001b[0m\u001b[0mslice\u001b[0m\u001b[0;34m(\u001b[0m\u001b[0;32mNone\u001b[0m\u001b[0;34m)\u001b[0m\u001b[0;34m,\u001b[0m \u001b[0mloc\u001b[0m\u001b[0;34m)\u001b[0m\u001b[0;34m)\u001b[0m\u001b[0;34m\u001b[0m\u001b[0;34m\u001b[0m\u001b[0m\n\u001b[1;32m    953\u001b[0m \u001b[0;34m\u001b[0m\u001b[0m\n\u001b[0;32m--> 954\u001b[0;31m         \u001b[0mdtype\u001b[0m \u001b[0;34m=\u001b[0m \u001b[0minterleaved_dtype\u001b[0m\u001b[0;34m(\u001b[0m\u001b[0;34m[\u001b[0m\u001b[0mblk\u001b[0m\u001b[0;34m.\u001b[0m\u001b[0mdtype\u001b[0m \u001b[0;32mfor\u001b[0m \u001b[0mblk\u001b[0m \u001b[0;32min\u001b[0m \u001b[0mself\u001b[0m\u001b[0;34m.\u001b[0m\u001b[0mblocks\u001b[0m\u001b[0;34m]\u001b[0m\u001b[0;34m)\u001b[0m\u001b[0;34m\u001b[0m\u001b[0;34m\u001b[0m\u001b[0m\n\u001b[0m\u001b[1;32m    955\u001b[0m \u001b[0;34m\u001b[0m\u001b[0m\n\u001b[1;32m    956\u001b[0m         \u001b[0mn\u001b[0m \u001b[0;34m=\u001b[0m \u001b[0mlen\u001b[0m\u001b[0;34m(\u001b[0m\u001b[0mself\u001b[0m\u001b[0;34m)\u001b[0m\u001b[0;34m\u001b[0m\u001b[0;34m\u001b[0m\u001b[0m\n",
            "\u001b[0;32m/usr/local/lib/python3.7/dist-packages/pandas/core/internals/base.py\u001b[0m in \u001b[0;36minterleaved_dtype\u001b[0;34m(dtypes)\u001b[0m\n\u001b[1;32m    159\u001b[0m         \u001b[0;32mreturn\u001b[0m \u001b[0;32mNone\u001b[0m\u001b[0;34m\u001b[0m\u001b[0;34m\u001b[0m\u001b[0m\n\u001b[1;32m    160\u001b[0m \u001b[0;34m\u001b[0m\u001b[0m\n\u001b[0;32m--> 161\u001b[0;31m     \u001b[0;32mreturn\u001b[0m \u001b[0mfind_common_type\u001b[0m\u001b[0;34m(\u001b[0m\u001b[0mdtypes\u001b[0m\u001b[0;34m)\u001b[0m\u001b[0;34m\u001b[0m\u001b[0;34m\u001b[0m\u001b[0m\n\u001b[0m",
            "\u001b[0;32m/usr/local/lib/python3.7/dist-packages/pandas/core/dtypes/cast.py\u001b[0m in \u001b[0;36mfind_common_type\u001b[0;34m(types)\u001b[0m\n\u001b[1;32m   1844\u001b[0m     \u001b[0;31m# None, type, _SupportsDtype, str, Tuple[Any, int], Tuple[Any, Union[int,\u001b[0m\u001b[0;34m\u001b[0m\u001b[0;34m\u001b[0m\u001b[0;34m\u001b[0m\u001b[0m\n\u001b[1;32m   1845\u001b[0m     \u001b[0;31m# Sequence[int]]], List[Any], _DtypeDict, Tuple[Any, Any]]]\"\u001b[0m\u001b[0;34m\u001b[0m\u001b[0;34m\u001b[0m\u001b[0;34m\u001b[0m\u001b[0m\n\u001b[0;32m-> 1846\u001b[0;31m     \u001b[0;32mreturn\u001b[0m \u001b[0mnp\u001b[0m\u001b[0;34m.\u001b[0m\u001b[0mfind_common_type\u001b[0m\u001b[0;34m(\u001b[0m\u001b[0mtypes\u001b[0m\u001b[0;34m,\u001b[0m \u001b[0;34m[\u001b[0m\u001b[0;34m]\u001b[0m\u001b[0;34m)\u001b[0m  \u001b[0;31m# type: ignore[arg-type]\u001b[0m\u001b[0;34m\u001b[0m\u001b[0;34m\u001b[0m\u001b[0m\n\u001b[0m\u001b[1;32m   1847\u001b[0m \u001b[0;34m\u001b[0m\u001b[0m\n\u001b[1;32m   1848\u001b[0m \u001b[0;34m\u001b[0m\u001b[0m\n",
            "\u001b[0;32m/usr/local/lib/python3.7/dist-packages/numpy/core/numerictypes.py\u001b[0m in \u001b[0;36mfind_common_type\u001b[0;34m(array_types, scalar_types)\u001b[0m\n\u001b[1;32m    652\u001b[0m     \u001b[0mscalar_types\u001b[0m \u001b[0;34m=\u001b[0m \u001b[0;34m[\u001b[0m\u001b[0mdtype\u001b[0m\u001b[0;34m(\u001b[0m\u001b[0mx\u001b[0m\u001b[0;34m)\u001b[0m \u001b[0;32mfor\u001b[0m \u001b[0mx\u001b[0m \u001b[0;32min\u001b[0m \u001b[0mscalar_types\u001b[0m\u001b[0;34m]\u001b[0m\u001b[0;34m\u001b[0m\u001b[0;34m\u001b[0m\u001b[0m\n\u001b[1;32m    653\u001b[0m \u001b[0;34m\u001b[0m\u001b[0m\n\u001b[0;32m--> 654\u001b[0;31m     \u001b[0mmaxa\u001b[0m \u001b[0;34m=\u001b[0m \u001b[0m_can_coerce_all\u001b[0m\u001b[0;34m(\u001b[0m\u001b[0marray_types\u001b[0m\u001b[0;34m)\u001b[0m\u001b[0;34m\u001b[0m\u001b[0;34m\u001b[0m\u001b[0m\n\u001b[0m\u001b[1;32m    655\u001b[0m     \u001b[0mmaxsc\u001b[0m \u001b[0;34m=\u001b[0m \u001b[0m_can_coerce_all\u001b[0m\u001b[0;34m(\u001b[0m\u001b[0mscalar_types\u001b[0m\u001b[0;34m)\u001b[0m\u001b[0;34m\u001b[0m\u001b[0;34m\u001b[0m\u001b[0m\n\u001b[1;32m    656\u001b[0m \u001b[0;34m\u001b[0m\u001b[0m\n",
            "\u001b[0;32m/usr/local/lib/python3.7/dist-packages/numpy/core/numerictypes.py\u001b[0m in \u001b[0;36m_can_coerce_all\u001b[0;34m(dtypelist, start)\u001b[0m\n\u001b[1;32m    581\u001b[0m     \u001b[0mthisind\u001b[0m \u001b[0;34m=\u001b[0m \u001b[0mstart\u001b[0m\u001b[0;34m\u001b[0m\u001b[0;34m\u001b[0m\u001b[0m\n\u001b[1;32m    582\u001b[0m     \u001b[0;32mwhile\u001b[0m \u001b[0mthisind\u001b[0m \u001b[0;34m<\u001b[0m \u001b[0m__len_test_types\u001b[0m\u001b[0;34m:\u001b[0m\u001b[0;34m\u001b[0m\u001b[0;34m\u001b[0m\u001b[0m\n\u001b[0;32m--> 583\u001b[0;31m         \u001b[0mnewdtype\u001b[0m \u001b[0;34m=\u001b[0m \u001b[0mdtype\u001b[0m\u001b[0;34m(\u001b[0m\u001b[0m__test_types\u001b[0m\u001b[0;34m[\u001b[0m\u001b[0mthisind\u001b[0m\u001b[0;34m]\u001b[0m\u001b[0;34m)\u001b[0m\u001b[0;34m\u001b[0m\u001b[0;34m\u001b[0m\u001b[0m\n\u001b[0m\u001b[1;32m    584\u001b[0m         \u001b[0mnumcoerce\u001b[0m \u001b[0;34m=\u001b[0m \u001b[0mlen\u001b[0m\u001b[0;34m(\u001b[0m\u001b[0;34m[\u001b[0m\u001b[0mx\u001b[0m \u001b[0;32mfor\u001b[0m \u001b[0mx\u001b[0m \u001b[0;32min\u001b[0m \u001b[0mdtypelist\u001b[0m \u001b[0;32mif\u001b[0m \u001b[0mnewdtype\u001b[0m \u001b[0;34m>=\u001b[0m \u001b[0mx\u001b[0m\u001b[0;34m]\u001b[0m\u001b[0;34m)\u001b[0m\u001b[0;34m\u001b[0m\u001b[0;34m\u001b[0m\u001b[0m\n\u001b[1;32m    585\u001b[0m         \u001b[0;32mif\u001b[0m \u001b[0mnumcoerce\u001b[0m \u001b[0;34m==\u001b[0m \u001b[0mN\u001b[0m\u001b[0;34m:\u001b[0m\u001b[0;34m\u001b[0m\u001b[0;34m\u001b[0m\u001b[0m\n",
            "\u001b[0;31mKeyboardInterrupt\u001b[0m: "
          ]
        }
      ]
    },
    {
      "cell_type": "code",
      "source": [
        "# Taking input of query\n",
        "#preprocession of each file in Dataset\n",
        "from nltk.stem import WordNetLemmatizer\n",
        "from nltk.tokenize import word_tokenize\n",
        "#nltk.download('wordnet')\n",
        "query=input(\"Enter the query:\")\n",
        "#preprocessedquery=preprocessing(query)\n",
        "q_input=[]\n",
        "q_input=pre_processing_query(query)\n",
        "TF_IDF=[]\n",
        "TF_IDF=Log_Normalization(TF_IDF)\n",
        "TF_IDF_Prediction=[]\n",
        "TF_IDF_Prediction= calc_top5(q_input,TF_IDF)\n",
        "\n",
        "TF_IDF_Prediction = pd.DataFrame(TF_IDF_Prediction, columns =['Document Name', 'TF IDF Score'])\n",
        "\n",
        "TF_IDF_Prediction=TF_IDF_Prediction.sort_values(by=\"TF IDF Score\",ascending=False)\n",
        "print(\"Top 5 Documents using Log Normalization weigthing Scheme \\n\")\n",
        "print(\"Document Name\", \" \", \"TF IDF Score\")\n",
        "for i in range(5):\n",
        "  print(TF_IDF_Prediction.iloc[i][0], \" \", TF_IDF_Prediction.iloc[i][1])"
      ],
      "metadata": {
        "id": "flEmwGUoPaVz",
        "colab": {
          "base_uri": "https://localhost:8080/"
        },
        "outputId": "e75513f3-aeca-4059-e924-6c35b1ace64f"
      },
      "execution_count": 43,
      "outputs": [
        {
          "output_type": "stream",
          "name": "stdout",
          "text": [
            "Enter the query:tiger lion cat\n",
            "Top 5 Documents using Log Normalization weigthing Scheme \n",
            "\n",
            "Document Name   TF IDF Score\n",
            "lion.jok   0.020833333333333332\n",
            "lions.cat   0.011494252873563218\n",
            "lion.txt   0.008130081300813009\n",
            "boneles2.txt   0.008064516129032258\n",
            "calvin.txt   0.008\n"
          ]
        }
      ]
    },
    {
      "cell_type": "code",
      "source": [
        "# Taking input of query\n",
        "#preprocession of each file in Dataset\n",
        "from nltk.stem import WordNetLemmatizer\n",
        "from nltk.tokenize import word_tokenize\n",
        "#nltk.download('wordnet')\n",
        "query=input(\"Enter the query:\")\n",
        "#preprocessedquery=preprocessing(query)\n",
        "q_input=[]\n",
        "q_input=pre_processing_query(query)\n",
        "TF_IDF=[]\n",
        "TF_IDF=Double_Normalization(TF_IDF)\n",
        "TF_IDF_Prediction=[]\n",
        "TF_IDF_Prediction= calc_top5(q_input,TF_IDF)\n",
        "\n",
        "TF_IDF_Prediction = pd.DataFrame(TF_IDF_Prediction, columns =['Document Name', 'TF IDF Score'])\n",
        "\n",
        "TF_IDF_Prediction=TF_IDF_Prediction.sort_values(by=\"TF IDF Score\",ascending=False)\n",
        "print(\"Top 5 Documents using Double Normalization weigthing Scheme \\n\")\n",
        "print(\"Document Name\", \" \", \"TF IDF Score\")\n",
        "for i in range(5):\n",
        "  print(TF_IDF_Prediction.iloc[i][0], \" \", TF_IDF_Prediction.iloc[i][1])"
      ],
      "metadata": {
        "id": "DvDoniUsPaRz",
        "colab": {
          "base_uri": "https://localhost:8080/"
        },
        "outputId": "d29e5c70-f3ef-484b-91b8-e414745c3e98"
      },
      "execution_count": 46,
      "outputs": [
        {
          "output_type": "stream",
          "name": "stdout",
          "text": [
            "Enter the query:tiger lion cat\n",
            "Top 5 Documents using Double Normalization weigthing Scheme \n",
            "\n",
            "Document Name   TF IDF Score\n",
            "lion.txt   0.020833333333333332\n",
            "lion.jok   0.011494252873563218\n",
            "lions.cat   0.008130081300813009\n",
            "rent-a_cat   0.008064516129032258\n",
            "catranch.hum   0.008\n"
          ]
        }
      ]
    },
    {
      "cell_type": "code",
      "source": [
        ""
      ],
      "metadata": {
        "id": "cn8UYSLOPaOH"
      },
      "execution_count": null,
      "outputs": []
    },
    {
      "cell_type": "code",
      "source": [
        ""
      ],
      "metadata": {
        "id": "z7y3IK8ePaJF"
      },
      "execution_count": null,
      "outputs": []
    },
    {
      "cell_type": "code",
      "source": [
        ""
      ],
      "metadata": {
        "id": "wLJ-1B76PaGI"
      },
      "execution_count": null,
      "outputs": []
    }
  ]
}